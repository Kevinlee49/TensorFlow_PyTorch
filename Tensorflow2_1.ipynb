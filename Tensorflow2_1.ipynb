{
  "nbformat": 4,
  "nbformat_minor": 0,
  "metadata": {
    "colab": {
      "provenance": [],
      "collapsed_sections": [],
      "mount_file_id": "1EEBpUKsCJgW4uo8RZEuvcMoRs7nlodVo",
      "authorship_tag": "ABX9TyPXzObXcUrOMn2nOx+jyf+Y",
      "include_colab_link": true
    },
    "kernelspec": {
      "name": "python3",
      "display_name": "Python 3"
    },
    "language_info": {
      "name": "python"
    }
  },
  "cells": [
    {
      "cell_type": "markdown",
      "metadata": {
        "id": "view-in-github",
        "colab_type": "text"
      },
      "source": [
        "<a href=\"https://colab.research.google.com/github/Kevinlee49/PyTorch/blob/main/Tensorflow2_1.ipynb\" target=\"_parent\"><img src=\"https://colab.research.google.com/assets/colab-badge.svg\" alt=\"Open In Colab\"/></a>"
      ]
    },
    {
      "cell_type": "code",
      "source": [
        "import numpy as np\n",
        "import pandas as pd \n",
        "import os \n",
        "import html5lib\n",
        "import tensorflow as tf\n",
        "import seaborn as sns   "
      ],
      "metadata": {
        "id": "XdKp5dY58Im0"
      },
      "execution_count": 1,
      "outputs": []
    },
    {
      "cell_type": "code",
      "execution_count": 2,
      "metadata": {
        "id": "e6PynlJl70P_",
        "colab": {
          "base_uri": "https://localhost:8080/",
          "height": 35
        },
        "outputId": "e7cb3a10-c6b4-4578-a764-d82aebedca16"
      },
      "outputs": [
        {
          "output_type": "execute_result",
          "data": {
            "text/plain": [
              "'2.9.2'"
            ],
            "application/vnd.google.colaboratory.intrinsic+json": {
              "type": "string"
            }
          },
          "metadata": {},
          "execution_count": 2
        }
      ],
      "source": [
        "tf.__version__"
      ]
    },
    {
      "cell_type": "code",
      "source": [
        "from google.colab import drive\n",
        "drive.mount(\"/content/gdrive\")"
      ],
      "metadata": {
        "colab": {
          "base_uri": "https://localhost:8080/"
        },
        "id": "kexbemM3we03",
        "outputId": "627eee6a-f346-4b4d-ed4c-f06a4c3bd957"
      },
      "execution_count": 3,
      "outputs": [
        {
          "output_type": "stream",
          "name": "stdout",
          "text": [
            "Mounted at /content/gdrive\n"
          ]
        }
      ]
    },
    {
      "cell_type": "code",
      "source": [
        "df = pd.read_csv('/content/gdrive/MyDrive/Colab Notebooks/Tensorflow2/DATA/fake_reg.csv')\n",
        "df.head()"
      ],
      "metadata": {
        "colab": {
          "base_uri": "https://localhost:8080/",
          "height": 206
        },
        "id": "RakBm7u2weys",
        "outputId": "3c0ceb97-d54f-46f1-ef0c-b6e24b00e228"
      },
      "execution_count": 60,
      "outputs": [
        {
          "output_type": "execute_result",
          "data": {
            "text/plain": [
              "        price     feature1     feature2\n",
              "0  461.527929   999.787558   999.766096\n",
              "1  548.130011   998.861615  1001.042403\n",
              "2  410.297162  1000.070267   998.844015\n",
              "3  540.382220   999.952251  1000.440940\n",
              "4  546.024553  1000.446011  1000.338531"
            ],
            "text/html": [
              "\n",
              "  <div id=\"df-dbdb5e29-5bcd-436f-8f2b-f3a5e73ad711\">\n",
              "    <div class=\"colab-df-container\">\n",
              "      <div>\n",
              "<style scoped>\n",
              "    .dataframe tbody tr th:only-of-type {\n",
              "        vertical-align: middle;\n",
              "    }\n",
              "\n",
              "    .dataframe tbody tr th {\n",
              "        vertical-align: top;\n",
              "    }\n",
              "\n",
              "    .dataframe thead th {\n",
              "        text-align: right;\n",
              "    }\n",
              "</style>\n",
              "<table border=\"1\" class=\"dataframe\">\n",
              "  <thead>\n",
              "    <tr style=\"text-align: right;\">\n",
              "      <th></th>\n",
              "      <th>price</th>\n",
              "      <th>feature1</th>\n",
              "      <th>feature2</th>\n",
              "    </tr>\n",
              "  </thead>\n",
              "  <tbody>\n",
              "    <tr>\n",
              "      <th>0</th>\n",
              "      <td>461.527929</td>\n",
              "      <td>999.787558</td>\n",
              "      <td>999.766096</td>\n",
              "    </tr>\n",
              "    <tr>\n",
              "      <th>1</th>\n",
              "      <td>548.130011</td>\n",
              "      <td>998.861615</td>\n",
              "      <td>1001.042403</td>\n",
              "    </tr>\n",
              "    <tr>\n",
              "      <th>2</th>\n",
              "      <td>410.297162</td>\n",
              "      <td>1000.070267</td>\n",
              "      <td>998.844015</td>\n",
              "    </tr>\n",
              "    <tr>\n",
              "      <th>3</th>\n",
              "      <td>540.382220</td>\n",
              "      <td>999.952251</td>\n",
              "      <td>1000.440940</td>\n",
              "    </tr>\n",
              "    <tr>\n",
              "      <th>4</th>\n",
              "      <td>546.024553</td>\n",
              "      <td>1000.446011</td>\n",
              "      <td>1000.338531</td>\n",
              "    </tr>\n",
              "  </tbody>\n",
              "</table>\n",
              "</div>\n",
              "      <button class=\"colab-df-convert\" onclick=\"convertToInteractive('df-dbdb5e29-5bcd-436f-8f2b-f3a5e73ad711')\"\n",
              "              title=\"Convert this dataframe to an interactive table.\"\n",
              "              style=\"display:none;\">\n",
              "        \n",
              "  <svg xmlns=\"http://www.w3.org/2000/svg\" height=\"24px\"viewBox=\"0 0 24 24\"\n",
              "       width=\"24px\">\n",
              "    <path d=\"M0 0h24v24H0V0z\" fill=\"none\"/>\n",
              "    <path d=\"M18.56 5.44l.94 2.06.94-2.06 2.06-.94-2.06-.94-.94-2.06-.94 2.06-2.06.94zm-11 1L8.5 8.5l.94-2.06 2.06-.94-2.06-.94L8.5 2.5l-.94 2.06-2.06.94zm10 10l.94 2.06.94-2.06 2.06-.94-2.06-.94-.94-2.06-.94 2.06-2.06.94z\"/><path d=\"M17.41 7.96l-1.37-1.37c-.4-.4-.92-.59-1.43-.59-.52 0-1.04.2-1.43.59L10.3 9.45l-7.72 7.72c-.78.78-.78 2.05 0 2.83L4 21.41c.39.39.9.59 1.41.59.51 0 1.02-.2 1.41-.59l7.78-7.78 2.81-2.81c.8-.78.8-2.07 0-2.86zM5.41 20L4 18.59l7.72-7.72 1.47 1.35L5.41 20z\"/>\n",
              "  </svg>\n",
              "      </button>\n",
              "      \n",
              "  <style>\n",
              "    .colab-df-container {\n",
              "      display:flex;\n",
              "      flex-wrap:wrap;\n",
              "      gap: 12px;\n",
              "    }\n",
              "\n",
              "    .colab-df-convert {\n",
              "      background-color: #E8F0FE;\n",
              "      border: none;\n",
              "      border-radius: 50%;\n",
              "      cursor: pointer;\n",
              "      display: none;\n",
              "      fill: #1967D2;\n",
              "      height: 32px;\n",
              "      padding: 0 0 0 0;\n",
              "      width: 32px;\n",
              "    }\n",
              "\n",
              "    .colab-df-convert:hover {\n",
              "      background-color: #E2EBFA;\n",
              "      box-shadow: 0px 1px 2px rgba(60, 64, 67, 0.3), 0px 1px 3px 1px rgba(60, 64, 67, 0.15);\n",
              "      fill: #174EA6;\n",
              "    }\n",
              "\n",
              "    [theme=dark] .colab-df-convert {\n",
              "      background-color: #3B4455;\n",
              "      fill: #D2E3FC;\n",
              "    }\n",
              "\n",
              "    [theme=dark] .colab-df-convert:hover {\n",
              "      background-color: #434B5C;\n",
              "      box-shadow: 0px 1px 3px 1px rgba(0, 0, 0, 0.15);\n",
              "      filter: drop-shadow(0px 1px 2px rgba(0, 0, 0, 0.3));\n",
              "      fill: #FFFFFF;\n",
              "    }\n",
              "  </style>\n",
              "\n",
              "      <script>\n",
              "        const buttonEl =\n",
              "          document.querySelector('#df-dbdb5e29-5bcd-436f-8f2b-f3a5e73ad711 button.colab-df-convert');\n",
              "        buttonEl.style.display =\n",
              "          google.colab.kernel.accessAllowed ? 'block' : 'none';\n",
              "\n",
              "        async function convertToInteractive(key) {\n",
              "          const element = document.querySelector('#df-dbdb5e29-5bcd-436f-8f2b-f3a5e73ad711');\n",
              "          const dataTable =\n",
              "            await google.colab.kernel.invokeFunction('convertToInteractive',\n",
              "                                                     [key], {});\n",
              "          if (!dataTable) return;\n",
              "\n",
              "          const docLinkHtml = 'Like what you see? Visit the ' +\n",
              "            '<a target=\"_blank\" href=https://colab.research.google.com/notebooks/data_table.ipynb>data table notebook</a>'\n",
              "            + ' to learn more about interactive tables.';\n",
              "          element.innerHTML = '';\n",
              "          dataTable['output_type'] = 'display_data';\n",
              "          await google.colab.output.renderOutput(dataTable, element);\n",
              "          const docLink = document.createElement('div');\n",
              "          docLink.innerHTML = docLinkHtml;\n",
              "          element.appendChild(docLink);\n",
              "        }\n",
              "      </script>\n",
              "    </div>\n",
              "  </div>\n",
              "  "
            ]
          },
          "metadata": {},
          "execution_count": 60
        }
      ]
    },
    {
      "cell_type": "code",
      "source": [
        "sns.pairplot(df)"
      ],
      "metadata": {
        "colab": {
          "base_uri": "https://localhost:8080/",
          "height": 568
        },
        "id": "X-0-bpLUwewu",
        "outputId": "b1607a33-82b7-4e59-eec9-1baeb19dd334"
      },
      "execution_count": 61,
      "outputs": [
        {
          "output_type": "execute_result",
          "data": {
            "text/plain": [
              "<seaborn.axisgrid.PairGrid at 0x7fd3100fde90>"
            ]
          },
          "metadata": {},
          "execution_count": 61
        },
        {
          "output_type": "display_data",
          "data": {
            "text/plain": [
              "<Figure size 540x540 with 12 Axes>"
            ],
            "image/png": "[encoded data removed]"
          },
          "metadata": {
            "needs_background": "light"
          }
        }
      ]
    },
    {
      "cell_type": "code",
      "source": [
        "from sklearn.model_selection import train_test_split"
      ],
      "metadata": {
        "id": "83TJ7zhrweuL"
      },
      "execution_count": 62,
      "outputs": []
    },
    {
      "cell_type": "code",
      "source": [
        "X = df[['feature1','feature2']].values\n",
        "y = df['price'].values\n",
        "X"
      ],
      "metadata": {
        "colab": {
          "base_uri": "https://localhost:8080/"
        },
        "id": "0EXljrU8weru",
        "outputId": "631fa48c-96eb-4aa6-b5c2-4899c8f5dbf0"
      },
      "execution_count": 63,
      "outputs": [
        {
          "output_type": "execute_result",
          "data": {
            "text/plain": [
              "array([[ 999.78755752,  999.7660962 ],\n",
              "       [ 998.86161491, 1001.04240315],\n",
              "       [1000.07026691,  998.84401463],\n",
              "       ...,\n",
              "       [1001.45164617,  998.84760554],\n",
              "       [1000.77102275,  998.56285086],\n",
              "       [ 999.2322436 , 1001.45140713]])"
            ]
          },
          "metadata": {},
          "execution_count": 63
        }
      ]
    },
    {
      "cell_type": "code",
      "source": [
        "X_train, X_test, y_train, y_test = train_test_split(X, y, test_size=0.25, random_state=42)"
      ],
      "metadata": {
        "id": "iKkoJesoweqb"
      },
      "execution_count": 64,
      "outputs": []
    },
    {
      "cell_type": "code",
      "source": [
        "X_test"
      ],
      "metadata": {
        "colab": {
          "base_uri": "https://localhost:8080/"
        },
        "id": "NDIeYhv86sK-",
        "outputId": "07ef5015-c1d2-4d37-a7a6-2b2b5e5baaf3"
      },
      "execution_count": 65,
      "outputs": [
        {
          "output_type": "execute_result",
          "data": {
            "text/plain": [
              "array([[ 999.54121558,  999.14114328],\n",
              "       [1000.61862216, 1001.11905081],\n",
              "       [1000.86079375, 1000.65496339],\n",
              "       [ 999.45851362, 1001.06368241],\n",
              "       [ 997.61547597,  999.57440788],\n",
              "       [1000.14086546, 1000.83393652],\n",
              "       [ 998.39657367, 1000.89778743],\n",
              "       [1000.48772914,  999.32129144],\n",
              "       [ 999.37620423, 1000.841348  ],\n",
              "       [1000.56800092,  999.15416846],\n",
              "       [1000.60331207, 1000.99323497],\n",
              "       [1001.96902295,  999.6666088 ],\n",
              "       [ 999.47784011,  999.32573058],\n",
              "       [ 999.15367572,  999.35665186],\n",
              "       [1002.56280406, 1000.55356428],\n",
              "       [1000.18750969,  999.21064524],\n",
              "       [1001.48563193,  999.42770753],\n",
              "       [ 999.31556397, 1002.1187026 ],\n",
              "       [1000.17527252, 1001.76025939],\n",
              "       [1001.02278582, 1000.28145855],\n",
              "       [ 998.2993191 ,  998.89970792],\n",
              "       [ 999.62911717,  999.54799684],\n",
              "       [ 998.77177786,  999.23169313],\n",
              "       [ 999.48763192,  998.86570158],\n",
              "       [1000.2156187 , 1000.65805738],\n",
              "       [ 999.64595458, 1001.41226397],\n",
              "       [ 999.91099887, 1000.40941307],\n",
              "       [ 999.81600435,  999.27188821],\n",
              "       [ 999.74924612, 1001.87210479],\n",
              "       [1000.26410836,  998.91384784],\n",
              "       [1000.39358382,  999.17781683],\n",
              "       [ 999.94184357,  999.86174987],\n",
              "       [ 999.83445616,  999.38273806],\n",
              "       [1000.11915762, 1002.00316538],\n",
              "       [1000.76933632,  998.80616707],\n",
              "       [ 998.8689003 ,  999.58486883],\n",
              "       [1001.87129547,  999.1797941 ],\n",
              "       [1000.40065623, 1000.39242714],\n",
              "       [ 998.71992476, 1000.69164197],\n",
              "       [ 997.84445369,  999.79552651],\n",
              "       [1000.97546546, 1000.90196312],\n",
              "       [1000.10322949,  999.01529024],\n",
              "       [1000.84156305, 1000.80275592],\n",
              "       [1000.97001161,  998.95493961],\n",
              "       [ 999.98589019, 1000.03226149],\n",
              "       [1002.29948722,  999.88738469],\n",
              "       [1002.236447  , 1000.90155752],\n",
              "       [1000.63675149,  999.60738074],\n",
              "       [ 999.89976901,  997.99995739],\n",
              "       [ 999.77125103,  999.94220041],\n",
              "       [1000.37192664, 1000.03036416],\n",
              "       [1000.23912335,  998.56049581],\n",
              "       [1001.50540695,  999.79659568],\n",
              "       [ 999.61687553,  999.1442915 ],\n",
              "       [1001.15897614, 1001.07799141],\n",
              "       [ 999.65170915, 1000.06001051],\n",
              "       [ 999.28725492, 1001.77027733],\n",
              "       [1002.09997542, 1000.48891497],\n",
              "       [ 999.85456996,  999.47141553],\n",
              "       [ 999.09490143, 1000.23959687],\n",
              "       [ 999.32526444, 1000.20817018],\n",
              "       [1000.34433782,  999.56036032],\n",
              "       [1001.20929065, 1001.5213057 ],\n",
              "       [ 998.95332223,  999.38415525],\n",
              "       [1001.11097985, 1001.77291727],\n",
              "       [ 999.9606828 , 1000.99689082],\n",
              "       [1000.59959615, 1000.67123453],\n",
              "       [1000.9041998 , 1000.02244227],\n",
              "       [ 999.84857529,  999.89766861],\n",
              "       [ 999.27117887, 1000.51972985],\n",
              "       [ 999.52344107,  998.65156922],\n",
              "       [1000.19806589, 1000.37420591],\n",
              "       [ 999.93118502, 1000.83213546],\n",
              "       [1001.85657213,  999.4860442 ],\n",
              "       [1000.08268694,  999.44347129],\n",
              "       [1000.63510664, 1000.06819361],\n",
              "       [1001.06022056,  999.60586922],\n",
              "       [ 998.79354193,  999.9086071 ],\n",
              "       [ 999.89732182, 1000.53958105],\n",
              "       [1001.83982925, 1000.76175928],\n",
              "       [ 998.2284793 , 1000.41997139],\n",
              "       [1000.75824721, 1000.42043604],\n",
              "       [1002.10863718, 1001.20510024],\n",
              "       [ 999.2551541 ,  999.87397116],\n",
              "       [1000.06454605, 1002.33350907],\n",
              "       [ 999.71773871,  999.82264667],\n",
              "       [1000.77102275,  998.56285086],\n",
              "       [1000.28396831, 1000.83622404],\n",
              "       [1001.02840223,  998.82463151],\n",
              "       [1000.58670154,  999.61375389],\n",
              "       [1000.91397724, 1000.91222201],\n",
              "       [1000.51708541,  999.0863586 ],\n",
              "       [ 998.85959773, 1000.01421223],\n",
              "       [ 999.37852313,  999.55312426],\n",
              "       [ 999.0180044 , 1000.52517773],\n",
              "       [1000.11048262, 1001.17823504],\n",
              "       [ 999.00027946,  998.44079667],\n",
              "       [1000.1112189 ,  999.2335257 ],\n",
              "       [1000.59423911, 1000.14540195],\n",
              "       [ 999.33023576, 1000.51649795],\n",
              "       [ 999.43095565, 1001.4468994 ],\n",
              "       [ 999.81328004, 1000.3751948 ],\n",
              "       [1000.12329752,  998.07465467],\n",
              "       [1001.58784514, 1000.14620516],\n",
              "       [ 997.86633073, 1000.19709086],\n",
              "       [1002.09526598,  999.76325538],\n",
              "       [1000.25998692, 1000.0373926 ],\n",
              "       [ 998.92808525,  999.25777852],\n",
              "       [ 998.70418871, 1001.33709245],\n",
              "       [1001.34601752,  998.88487712],\n",
              "       [ 999.22508557,  999.77182348],\n",
              "       [1000.84288712, 1001.21451843],\n",
              "       [1001.04052085,  999.80864186],\n",
              "       [1001.07403436, 1000.09063587],\n",
              "       [ 999.52020445,  999.29075776],\n",
              "       [ 999.58583702,  999.95051547],\n",
              "       [1000.44704999, 1000.77859431],\n",
              "       [1000.08875574, 1001.85353561],\n",
              "       [1000.30725391, 1002.12845585],\n",
              "       [ 999.10426601, 1002.20818622],\n",
              "       [1000.28688006, 1000.55782659],\n",
              "       [1000.80680372,  999.67481172],\n",
              "       [ 998.34509133,  999.51294842],\n",
              "       [ 998.43163935,  998.24275033],\n",
              "       [1000.30346199,  999.63616124],\n",
              "       [1001.70865502, 1000.54568713],\n",
              "       [1000.55327671,  998.32283915],\n",
              "       [1000.1388601 , 1000.07920917],\n",
              "       [ 998.75163087, 1000.69202792],\n",
              "       [ 999.31722214, 1000.23839836],\n",
              "       [ 999.9851274 ,  999.78952979],\n",
              "       [ 998.46459017,  999.83654418],\n",
              "       [ 999.61565126, 1000.10324949],\n",
              "       [1000.01898806,  999.67273172],\n",
              "       [1001.74287184, 1000.3504077 ],\n",
              "       [1002.02401898,  999.91998928],\n",
              "       [ 998.09900819,  999.90206039],\n",
              "       [1000.92165043, 1001.0624792 ],\n",
              "       [1000.43188001,  999.42860185],\n",
              "       [1001.02923689, 1000.26504056],\n",
              "       [ 999.42544802,  999.19798877],\n",
              "       [1000.00658627, 1000.36386903],\n",
              "       [1000.21774751, 1000.72539241],\n",
              "       [ 998.69952473,  998.97702148],\n",
              "       [ 999.78274903, 1000.66444323],\n",
              "       [1000.42961256, 1000.97659733],\n",
              "       [ 999.05946756,  999.12184654],\n",
              "       [ 999.39749921, 1000.75444347],\n",
              "       [1000.39645287, 1000.53125883],\n",
              "       [1000.63022276,  999.18669104],\n",
              "       [1000.78270993, 1001.14285581],\n",
              "       [ 998.10104037,  999.41880025],\n",
              "       [ 999.07816536, 1000.12922266],\n",
              "       [ 999.05704092, 1000.75554167],\n",
              "       [ 999.88415459,  998.61371202],\n",
              "       [ 998.94408235, 1000.04281388],\n",
              "       [ 998.81055886,  999.8216568 ],\n",
              "       [ 999.84139342, 1000.05816106],\n",
              "       [1000.27499243,  998.14141059],\n",
              "       [1000.16833753,  998.744956  ],\n",
              "       [1000.97656976, 1000.74333608],\n",
              "       [1000.42709209,  999.88568502],\n",
              "       [ 999.60663613,  999.8267831 ],\n",
              "       [1000.6470099 ,  999.60239455],\n",
              "       [1001.44267552,  999.7501175 ],\n",
              "       [ 998.89947991,  998.74462992],\n",
              "       [1002.13795514,  999.17675213],\n",
              "       [ 999.25656085,  997.52518663],\n",
              "       [1000.06920159, 1000.01839843],\n",
              "       [ 998.75994947, 1001.0279294 ],\n",
              "       [ 999.69894305, 1000.01948507],\n",
              "       [1001.59432251,  998.95667886],\n",
              "       [ 999.63175058,  998.95641919],\n",
              "       [1001.09895002,  998.56124852],\n",
              "       [ 999.82345446, 1000.64314664],\n",
              "       [ 998.90417253, 1000.22523863],\n",
              "       [ 999.52107146, 1001.12274262],\n",
              "       [ 998.85665929, 1000.40455559],\n",
              "       [ 999.03476362, 1001.58003678],\n",
              "       [1000.98119377, 1000.09094123],\n",
              "       [1000.75630703, 1000.13569916],\n",
              "       [1000.1339504 ,  999.94956058],\n",
              "       [1000.35073212, 1001.49199486],\n",
              "       [1000.01168182, 1000.68052593],\n",
              "       [1002.03243496,  999.965416  ],\n",
              "       [1001.07139792,  998.88851096],\n",
              "       [1000.59730146,  998.77959542],\n",
              "       [ 998.55780209,  999.75206663],\n",
              "       [1001.1905556 , 1000.24623201],\n",
              "       [1000.03243666, 1001.21993811],\n",
              "       [1000.45636707,  999.09441244],\n",
              "       [1000.34592002,  999.71137639],\n",
              "       [ 999.3512813 , 1001.28759278],\n",
              "       [ 999.33738367, 1000.58952622],\n",
              "       [ 998.95406426,  998.86526224],\n",
              "       [1000.14956975, 1001.57815201],\n",
              "       [ 999.43149963, 1000.57695346],\n",
              "       [ 999.21239823,  998.52097336],\n",
              "       [ 999.84026341,  999.9931464 ],\n",
              "       [1000.61333641,  998.71177831],\n",
              "       [1000.8071351 , 1000.8427065 ],\n",
              "       [1000.31079937,  998.12998235],\n",
              "       [1001.12472718,  999.74852411],\n",
              "       [1000.06526136,  998.89767537],\n",
              "       [ 997.05834721,  998.60431394],\n",
              "       [1000.75781834,  999.88581465],\n",
              "       [1000.9259444 ,  997.78839089],\n",
              "       [ 998.11131567,  999.29891089],\n",
              "       [1001.53866172, 1000.17134766],\n",
              "       [1000.68570995,  998.75270581],\n",
              "       [ 999.66801081, 1000.72931073],\n",
              "       [ 999.58005051, 1000.43135427],\n",
              "       [ 997.69118401, 1001.16814368],\n",
              "       [ 999.51671953,  998.24275721],\n",
              "       [ 998.14061922,  999.76115445],\n",
              "       [ 999.60511765, 1001.33834076],\n",
              "       [ 999.84163255, 1001.40607467],\n",
              "       [ 998.64345694, 1001.78264749],\n",
              "       [1001.5856026 , 1000.03576386],\n",
              "       [ 998.93410169, 1000.18499776],\n",
              "       [ 999.95711064,  999.57532973],\n",
              "       [ 999.82280097, 1000.17879614],\n",
              "       [1000.50744337,  999.16332717],\n",
              "       [1001.30157859,  999.54322407],\n",
              "       [ 998.51996638, 1000.69905544],\n",
              "       [1000.07026691,  998.84401463],\n",
              "       [1000.42321977, 1001.00405089],\n",
              "       [ 998.54387288,  997.92999823],\n",
              "       [1001.0929831 , 1000.95807406],\n",
              "       [1002.39372764,  999.92862869],\n",
              "       [ 999.99236722,  998.05491355],\n",
              "       [ 998.96041095, 1000.24224325],\n",
              "       [1000.79969661, 1000.71895819],\n",
              "       [ 999.67125607,  998.77875304],\n",
              "       [ 999.66696269,  999.70399468],\n",
              "       [1000.11330675,  997.97612875],\n",
              "       [1001.06410159,  999.73385059],\n",
              "       [1000.87586507,  998.58709916],\n",
              "       [1000.73970984, 1000.30454142],\n",
              "       [1001.16566237, 1001.07925294],\n",
              "       [ 999.9522513 , 1000.44094031],\n",
              "       [1000.6276331 ,  999.7558292 ],\n",
              "       [1001.60653274, 1000.80268267],\n",
              "       [1000.64657734,  999.88350839],\n",
              "       [1000.14337372, 1000.29681983],\n",
              "       [ 999.23088245, 1000.56358153],\n",
              "       [1000.10238335,  999.47661807],\n",
              "       [1001.0118893 ,  999.61215521],\n",
              "       [1000.23392809,  999.45858378],\n",
              "       [1001.96437382, 1000.15159388]])"
            ]
          },
          "metadata": {},
          "execution_count": 65
        }
      ]
    },
    {
      "cell_type": "code",
      "source": [
        "X_train.shape"
      ],
      "metadata": {
        "colab": {
          "base_uri": "https://localhost:8080/"
        },
        "id": "S43vlW8vweng",
        "outputId": "e533469f-d971-45a0-f358-f9337e47d516"
      },
      "execution_count": 47,
      "outputs": [
        {
          "output_type": "execute_result",
          "data": {
            "text/plain": [
              "(750, 2)"
            ]
          },
          "metadata": {},
          "execution_count": 47
        }
      ]
    },
    {
      "cell_type": "code",
      "source": [
        "X_test.shape"
      ],
      "metadata": {
        "colab": {
          "base_uri": "https://localhost:8080/"
        },
        "id": "smNfWzUNwelw",
        "outputId": "a212a6b3-9a14-431f-8117-e95f5eb55040"
      },
      "execution_count": 48,
      "outputs": [
        {
          "output_type": "execute_result",
          "data": {
            "text/plain": [
              "(250, 2)"
            ]
          },
          "metadata": {},
          "execution_count": 48
        }
      ]
    },
    {
      "cell_type": "code",
      "source": [
        "from sklearn.preprocessing import MinMaxScaler"
      ],
      "metadata": {
        "id": "-aWsfC5ZwejL"
      },
      "execution_count": 66,
      "outputs": []
    },
    {
      "cell_type": "code",
      "source": [
        "#X_std = (X - X.min(axis=0)) / (X.max(axis=0) - X.min(axis=0))\n",
        "#X_scaled = X_std * (max - min) + min"
      ],
      "metadata": {
        "id": "YgoqrgGWwegy"
      },
      "execution_count": 12,
      "outputs": []
    },
    {
      "cell_type": "code",
      "source": [
        "scaler = MinMaxScaler()\n",
        "scaler.fit(X_train)"
      ],
      "metadata": {
        "colab": {
          "base_uri": "https://localhost:8080/"
        },
        "id": "REGaA21dweeh",
        "outputId": "561d5c00-0de0-4a82-8389-d3ec9c100305"
      },
      "execution_count": 68,
      "outputs": [
        {
          "output_type": "execute_result",
          "data": {
            "text/plain": [
              "MinMaxScaler()"
            ]
          },
          "metadata": {},
          "execution_count": 68
        }
      ]
    },
    {
      "cell_type": "code",
      "source": [
        "X_train = scaler.transform(X_train)\n",
        "X_test = scaler.transform(X_test)\n",
        "X_train"
      ],
      "metadata": {
        "colab": {
          "base_uri": "https://localhost:8080/"
        },
        "id": "jqieEkl4wecM",
        "outputId": "0f176a2a-775d-4ae4-8804-c753966150a0"
      },
      "execution_count": 69,
      "outputs": [
        {
          "output_type": "execute_result",
          "data": {
            "text/plain": [
              "array([[0.37979357, 0.50659872],\n",
              "       [0.27945211, 0.47794684],\n",
              "       [0.3483822 , 0.67249317],\n",
              "       ...,\n",
              "       [0.54913363, 0.78470227],\n",
              "       [0.2834197 , 0.38107935],\n",
              "       [0.56282703, 0.41595995]])"
            ]
          },
          "metadata": {},
          "execution_count": 69
        }
      ]
    },
    {
      "cell_type": "code",
      "source": [
        "#X_train.max()\n",
        "X_train.min()"
      ],
      "metadata": {
        "colab": {
          "base_uri": "https://localhost:8080/"
        },
        "id": "ciYmlIl8BK3x",
        "outputId": "c3074a89-1603-4f87-8324-1f884a4972de"
      },
      "execution_count": 70,
      "outputs": [
        {
          "output_type": "execute_result",
          "data": {
            "text/plain": [
              "0.0"
            ]
          },
          "metadata": {},
          "execution_count": 70
        }
      ]
    },
    {
      "cell_type": "code",
      "source": [
        "from tensorflow.keras.models import Sequential\n",
        "from tensorflow.keras.layers import Dense"
      ],
      "metadata": {
        "id": "rjuncy47BK01"
      },
      "execution_count": 71,
      "outputs": []
    },
    {
      "cell_type": "code",
      "source": [
        "#model = Sequential([Dense(4, activation = 'relu'), \n",
        "#                    Dense(2, activation = 'relu'),\n",
        "#                    Dense(1)])\n",
        "# same code\n",
        "model = Sequential()\n",
        "model.add(Dense(4,activation = 'relu'))\n",
        "model.add(Dense(2,activation = 'relu'))\n",
        "model.add(Dense(1))\n",
        "\n",
        "model.compile(optimizer = 'rmsprop', loss = 'mse')"
      ],
      "metadata": {
        "id": "vneXODeeBKyv"
      },
      "execution_count": 72,
      "outputs": []
    },
    {
      "cell_type": "code",
      "source": [
        "model.fit(x=X_train, y=y_train, epochs = 200)"
      ],
      "metadata": {
        "colab": {
          "base_uri": "https://localhost:8080/"
        },
        "id": "icZVzVpnBKw2",
        "outputId": "15415969-7bcc-407a-ea69-0d32b5d1ec2d"
      },
      "execution_count": 73,
      "outputs": [
        {
          "output_type": "stream",
          "name": "stdout",
          "text": [
            "Epoch 1/200\n",
            "24/24 [==============================] - 1s 3ms/step - loss: 256385.9375\n",
            "Epoch 2/200\n",
            "24/24 [==============================] - 0s 2ms/step - loss: 256294.4062\n",
            "Epoch 3/200\n",
            "24/24 [==============================] - 0s 2ms/step - loss: 256211.7812\n",
            "Epoch 4/200\n",
            "24/24 [==============================] - 0s 3ms/step - loss: 256125.8594\n",
            "Epoch 5/200\n",
            "24/24 [==============================] - 0s 2ms/step - loss: 256041.7969\n",
            "Epoch 6/200\n",
            "24/24 [==============================] - 0s 2ms/step - loss: 255954.7500\n",
            "Epoch 7/200\n",
            "24/24 [==============================] - 0s 2ms/step - loss: 255861.4375\n",
            "Epoch 8/200\n",
            "24/24 [==============================] - 0s 2ms/step - loss: 255761.0312\n",
            "Epoch 9/200\n",
            "24/24 [==============================] - 0s 3ms/step - loss: 255652.5469\n",
            "Epoch 10/200\n",
            "24/24 [==============================] - 0s 2ms/step - loss: 255535.8906\n",
            "Epoch 11/200\n",
            "24/24 [==============================] - 0s 2ms/step - loss: 255411.2188\n",
            "Epoch 12/200\n",
            "24/24 [==============================] - 0s 2ms/step - loss: 255277.7344\n",
            "Epoch 13/200\n",
            "24/24 [==============================] - 0s 2ms/step - loss: 255134.7812\n",
            "Epoch 14/200\n",
            "24/24 [==============================] - 0s 2ms/step - loss: 254982.9688\n",
            "Epoch 15/200\n",
            "24/24 [==============================] - 0s 2ms/step - loss: 254820.2656\n",
            "Epoch 16/200\n",
            "24/24 [==============================] - 0s 2ms/step - loss: 254647.9219\n",
            "Epoch 17/200\n",
            "24/24 [==============================] - 0s 2ms/step - loss: 254464.8125\n",
            "Epoch 18/200\n",
            "24/24 [==============================] - 0s 2ms/step - loss: 254271.5312\n",
            "Epoch 19/200\n",
            "24/24 [==============================] - 0s 2ms/step - loss: 254064.8594\n",
            "Epoch 20/200\n",
            "24/24 [==============================] - 0s 2ms/step - loss: 253848.4062\n",
            "Epoch 21/200\n",
            "24/24 [==============================] - 0s 2ms/step - loss: 253619.1719\n",
            "Epoch 22/200\n",
            "24/24 [==============================] - 0s 2ms/step - loss: 253378.6094\n",
            "Epoch 23/200\n",
            "24/24 [==============================] - 0s 3ms/step - loss: 253126.1406\n",
            "Epoch 24/200\n",
            "24/24 [==============================] - 0s 2ms/step - loss: 252860.6094\n",
            "Epoch 25/200\n",
            "24/24 [==============================] - 0s 2ms/step - loss: 252580.8594\n",
            "Epoch 26/200\n",
            "24/24 [==============================] - 0s 2ms/step - loss: 252288.0156\n",
            "Epoch 27/200\n",
            "24/24 [==============================] - 0s 2ms/step - loss: 251980.7812\n",
            "Epoch 28/200\n",
            "24/24 [==============================] - 0s 2ms/step - loss: 251660.0469\n",
            "Epoch 29/200\n",
            "24/24 [==============================] - 0s 2ms/step - loss: 251325.2344\n",
            "Epoch 30/200\n",
            "24/24 [==============================] - 0s 2ms/step - loss: 250976.4219\n",
            "Epoch 31/200\n",
            "24/24 [==============================] - 0s 2ms/step - loss: 250610.0625\n",
            "Epoch 32/200\n",
            "24/24 [==============================] - 0s 3ms/step - loss: 250230.9062\n",
            "Epoch 33/200\n",
            "24/24 [==============================] - 0s 2ms/step - loss: 249836.3594\n",
            "Epoch 34/200\n",
            "24/24 [==============================] - 0s 2ms/step - loss: 249424.2500\n",
            "Epoch 35/200\n",
            "24/24 [==============================] - 0s 2ms/step - loss: 248996.0156\n",
            "Epoch 36/200\n",
            "24/24 [==============================] - 0s 2ms/step - loss: 248553.4062\n",
            "Epoch 37/200\n",
            "24/24 [==============================] - 0s 2ms/step - loss: 248092.3906\n",
            "Epoch 38/200\n",
            "24/24 [==============================] - 0s 2ms/step - loss: 247611.9062\n",
            "Epoch 39/200\n",
            "24/24 [==============================] - 0s 2ms/step - loss: 247115.9219\n",
            "Epoch 40/200\n",
            "24/24 [==============================] - 0s 2ms/step - loss: 246605.2656\n",
            "Epoch 41/200\n",
            "24/24 [==============================] - 0s 2ms/step - loss: 246077.1562\n",
            "Epoch 42/200\n",
            "24/24 [==============================] - 0s 2ms/step - loss: 245525.5312\n",
            "Epoch 43/200\n",
            "24/24 [==============================] - 0s 2ms/step - loss: 244960.3125\n",
            "Epoch 44/200\n",
            "24/24 [==============================] - 0s 3ms/step - loss: 244373.4375\n",
            "Epoch 45/200\n",
            "24/24 [==============================] - 0s 2ms/step - loss: 243767.5156\n",
            "Epoch 46/200\n",
            "24/24 [==============================] - 0s 2ms/step - loss: 243142.1719\n",
            "Epoch 47/200\n",
            "24/24 [==============================] - 0s 2ms/step - loss: 242498.4531\n",
            "Epoch 48/200\n",
            "24/24 [==============================] - 0s 2ms/step - loss: 241833.9688\n",
            "Epoch 49/200\n",
            "24/24 [==============================] - 0s 2ms/step - loss: 241152.2344\n",
            "Epoch 50/200\n",
            "24/24 [==============================] - 0s 2ms/step - loss: 240446.2969\n",
            "Epoch 51/200\n",
            "24/24 [==============================] - 0s 2ms/step - loss: 239723.3750\n",
            "Epoch 52/200\n",
            "24/24 [==============================] - 0s 2ms/step - loss: 238981.1250\n",
            "Epoch 53/200\n",
            "24/24 [==============================] - 0s 2ms/step - loss: 238216.7656\n",
            "Epoch 54/200\n",
            "24/24 [==============================] - 0s 2ms/step - loss: 237426.7969\n",
            "Epoch 55/200\n",
            "24/24 [==============================] - 0s 2ms/step - loss: 236619.9062\n",
            "Epoch 56/200\n",
            "24/24 [==============================] - 0s 2ms/step - loss: 235788.2812\n",
            "Epoch 57/200\n",
            "24/24 [==============================] - 0s 2ms/step - loss: 234934.7812\n",
            "Epoch 58/200\n",
            "24/24 [==============================] - 0s 2ms/step - loss: 234065.6406\n",
            "Epoch 59/200\n",
            "24/24 [==============================] - 0s 2ms/step - loss: 233171.9219\n",
            "Epoch 60/200\n",
            "24/24 [==============================] - 0s 3ms/step - loss: 232252.3594\n",
            "Epoch 61/200\n",
            "24/24 [==============================] - 0s 2ms/step - loss: 231313.5781\n",
            "Epoch 62/200\n",
            "24/24 [==============================] - 0s 3ms/step - loss: 230358.9375\n",
            "Epoch 63/200\n",
            "24/24 [==============================] - 0s 2ms/step - loss: 229370.6719\n",
            "Epoch 64/200\n",
            "24/24 [==============================] - 0s 2ms/step - loss: 228366.1875\n",
            "Epoch 65/200\n",
            "24/24 [==============================] - 0s 2ms/step - loss: 227333.8281\n",
            "Epoch 66/200\n",
            "24/24 [==============================] - 0s 2ms/step - loss: 226280.6406\n",
            "Epoch 67/200\n",
            "24/24 [==============================] - 0s 2ms/step - loss: 225197.6250\n",
            "Epoch 68/200\n",
            "24/24 [==============================] - 0s 2ms/step - loss: 224096.1562\n",
            "Epoch 69/200\n",
            "24/24 [==============================] - 0s 2ms/step - loss: 222974.8906\n",
            "Epoch 70/200\n",
            "24/24 [==============================] - 0s 2ms/step - loss: 221825.8750\n",
            "Epoch 71/200\n",
            "24/24 [==============================] - 0s 2ms/step - loss: 220655.0156\n",
            "Epoch 72/200\n",
            "24/24 [==============================] - 0s 2ms/step - loss: 219460.4844\n",
            "Epoch 73/200\n",
            "24/24 [==============================] - 0s 2ms/step - loss: 218238.3125\n",
            "Epoch 74/200\n",
            "24/24 [==============================] - 0s 2ms/step - loss: 216991.2500\n",
            "Epoch 75/200\n",
            "24/24 [==============================] - 0s 2ms/step - loss: 215730.0000\n",
            "Epoch 76/200\n",
            "24/24 [==============================] - 0s 2ms/step - loss: 214435.3906\n",
            "Epoch 77/200\n",
            "24/24 [==============================] - 0s 2ms/step - loss: 213122.0469\n",
            "Epoch 78/200\n",
            "24/24 [==============================] - 0s 2ms/step - loss: 211783.9531\n",
            "Epoch 79/200\n",
            "24/24 [==============================] - 0s 2ms/step - loss: 210415.6094\n",
            "Epoch 80/200\n",
            "24/24 [==============================] - 0s 2ms/step - loss: 209026.3750\n",
            "Epoch 81/200\n",
            "24/24 [==============================] - 0s 2ms/step - loss: 207611.7500\n",
            "Epoch 82/200\n",
            "24/24 [==============================] - 0s 2ms/step - loss: 206175.0625\n",
            "Epoch 83/200\n",
            "24/24 [==============================] - 0s 2ms/step - loss: 204712.8281\n",
            "Epoch 84/200\n",
            "24/24 [==============================] - 0s 2ms/step - loss: 203223.1719\n",
            "Epoch 85/200\n",
            "24/24 [==============================] - 0s 3ms/step - loss: 201719.6406\n",
            "Epoch 86/200\n",
            "24/24 [==============================] - 0s 2ms/step - loss: 200183.6094\n",
            "Epoch 87/200\n",
            "24/24 [==============================] - 0s 2ms/step - loss: 198616.9375\n",
            "Epoch 88/200\n",
            "24/24 [==============================] - 0s 2ms/step - loss: 197039.8750\n",
            "Epoch 89/200\n",
            "24/24 [==============================] - 0s 2ms/step - loss: 195436.4219\n",
            "Epoch 90/200\n",
            "24/24 [==============================] - 0s 2ms/step - loss: 193800.1875\n",
            "Epoch 91/200\n",
            "24/24 [==============================] - 0s 2ms/step - loss: 192149.4219\n",
            "Epoch 92/200\n",
            "24/24 [==============================] - 0s 2ms/step - loss: 190469.8438\n",
            "Epoch 93/200\n",
            "24/24 [==============================] - 0s 2ms/step - loss: 188770.3281\n",
            "Epoch 94/200\n",
            "24/24 [==============================] - 0s 2ms/step - loss: 187037.7812\n",
            "Epoch 95/200\n",
            "24/24 [==============================] - 0s 2ms/step - loss: 185286.8750\n",
            "Epoch 96/200\n",
            "24/24 [==============================] - 0s 2ms/step - loss: 183524.1562\n",
            "Epoch 97/200\n",
            "24/24 [==============================] - 0s 2ms/step - loss: 181732.0469\n",
            "Epoch 98/200\n",
            "24/24 [==============================] - 0s 2ms/step - loss: 179911.1875\n",
            "Epoch 99/200\n",
            "24/24 [==============================] - 0s 2ms/step - loss: 178067.3750\n",
            "Epoch 100/200\n",
            "24/24 [==============================] - 0s 2ms/step - loss: 176197.9688\n",
            "Epoch 101/200\n",
            "24/24 [==============================] - 0s 2ms/step - loss: 174317.9531\n",
            "Epoch 102/200\n",
            "24/24 [==============================] - 0s 2ms/step - loss: 172418.4844\n",
            "Epoch 103/200\n",
            "24/24 [==============================] - 0s 2ms/step - loss: 170493.8125\n",
            "Epoch 104/200\n",
            "24/24 [==============================] - 0s 2ms/step - loss: 168547.5000\n",
            "Epoch 105/200\n",
            "24/24 [==============================] - 0s 2ms/step - loss: 166566.7969\n",
            "Epoch 106/200\n",
            "24/24 [==============================] - 0s 2ms/step - loss: 164579.8594\n",
            "Epoch 107/200\n",
            "24/24 [==============================] - 0s 2ms/step - loss: 162571.4844\n",
            "Epoch 108/200\n",
            "24/24 [==============================] - 0s 2ms/step - loss: 160539.4062\n",
            "Epoch 109/200\n",
            "24/24 [==============================] - 0s 2ms/step - loss: 158489.8281\n",
            "Epoch 110/200\n",
            "24/24 [==============================] - 0s 2ms/step - loss: 156418.0625\n",
            "Epoch 111/200\n",
            "24/24 [==============================] - 0s 2ms/step - loss: 154328.2031\n",
            "Epoch 112/200\n",
            "24/24 [==============================] - 0s 2ms/step - loss: 152223.1562\n",
            "Epoch 113/200\n",
            "24/24 [==============================] - 0s 2ms/step - loss: 150102.1406\n",
            "Epoch 114/200\n",
            "24/24 [==============================] - 0s 2ms/step - loss: 147957.1094\n",
            "Epoch 115/200\n",
            "24/24 [==============================] - 0s 2ms/step - loss: 145810.2969\n",
            "Epoch 116/200\n",
            "24/24 [==============================] - 0s 2ms/step - loss: 143636.4531\n",
            "Epoch 117/200\n",
            "24/24 [==============================] - 0s 3ms/step - loss: 141443.6719\n",
            "Epoch 118/200\n",
            "24/24 [==============================] - 0s 2ms/step - loss: 139242.2969\n",
            "Epoch 119/200\n",
            "24/24 [==============================] - 0s 2ms/step - loss: 137014.4375\n",
            "Epoch 120/200\n",
            "24/24 [==============================] - 0s 2ms/step - loss: 134770.8125\n",
            "Epoch 121/200\n",
            "24/24 [==============================] - 0s 2ms/step - loss: 132533.1562\n",
            "Epoch 122/200\n",
            "24/24 [==============================] - 0s 2ms/step - loss: 130268.8203\n",
            "Epoch 123/200\n",
            "24/24 [==============================] - 0s 2ms/step - loss: 127993.2812\n",
            "Epoch 124/200\n",
            "24/24 [==============================] - 0s 2ms/step - loss: 125704.1953\n",
            "Epoch 125/200\n",
            "24/24 [==============================] - 0s 2ms/step - loss: 123406.8516\n",
            "Epoch 126/200\n",
            "24/24 [==============================] - 0s 2ms/step - loss: 121108.0781\n",
            "Epoch 127/200\n",
            "24/24 [==============================] - 0s 2ms/step - loss: 118777.1094\n",
            "Epoch 128/200\n",
            "24/24 [==============================] - 0s 2ms/step - loss: 116452.2344\n",
            "Epoch 129/200\n",
            "24/24 [==============================] - 0s 2ms/step - loss: 114129.6641\n",
            "Epoch 130/200\n",
            "24/24 [==============================] - 0s 2ms/step - loss: 111772.3516\n",
            "Epoch 131/200\n",
            "24/24 [==============================] - 0s 2ms/step - loss: 109421.1016\n",
            "Epoch 132/200\n",
            "24/24 [==============================] - 0s 2ms/step - loss: 107083.8047\n",
            "Epoch 133/200\n",
            "24/24 [==============================] - 0s 2ms/step - loss: 104725.2188\n",
            "Epoch 134/200\n",
            "24/24 [==============================] - 0s 2ms/step - loss: 102351.3203\n",
            "Epoch 135/200\n",
            "24/24 [==============================] - 0s 2ms/step - loss: 99965.8125\n",
            "Epoch 136/200\n",
            "24/24 [==============================] - 0s 2ms/step - loss: 97602.1875\n",
            "Epoch 137/200\n",
            "24/24 [==============================] - 0s 2ms/step - loss: 95236.8828\n",
            "Epoch 138/200\n",
            "24/24 [==============================] - 0s 2ms/step - loss: 92865.7578\n",
            "Epoch 139/200\n",
            "24/24 [==============================] - 0s 2ms/step - loss: 90494.6172\n",
            "Epoch 140/200\n",
            "24/24 [==============================] - 0s 2ms/step - loss: 88134.6250\n",
            "Epoch 141/200\n",
            "24/24 [==============================] - 0s 2ms/step - loss: 85771.9453\n",
            "Epoch 142/200\n",
            "24/24 [==============================] - 0s 2ms/step - loss: 83409.8281\n",
            "Epoch 143/200\n",
            "24/24 [==============================] - 0s 2ms/step - loss: 81055.6172\n",
            "Epoch 144/200\n",
            "24/24 [==============================] - 0s 3ms/step - loss: 78691.2344\n",
            "Epoch 145/200\n",
            "24/24 [==============================] - 0s 3ms/step - loss: 76342.1406\n",
            "Epoch 146/200\n",
            "24/24 [==============================] - 0s 2ms/step - loss: 74015.0000\n",
            "Epoch 147/200\n",
            "24/24 [==============================] - 0s 2ms/step - loss: 71682.4766\n",
            "Epoch 148/200\n",
            "24/24 [==============================] - 0s 3ms/step - loss: 69369.7734\n",
            "Epoch 149/200\n",
            "24/24 [==============================] - 0s 2ms/step - loss: 67063.1953\n",
            "Epoch 150/200\n",
            "24/24 [==============================] - 0s 2ms/step - loss: 64785.8359\n",
            "Epoch 151/200\n",
            "24/24 [==============================] - 0s 2ms/step - loss: 62519.4141\n",
            "Epoch 152/200\n",
            "24/24 [==============================] - 0s 2ms/step - loss: 60244.6836\n",
            "Epoch 153/200\n",
            "24/24 [==============================] - 0s 2ms/step - loss: 58005.7773\n",
            "Epoch 154/200\n",
            "24/24 [==============================] - 0s 2ms/step - loss: 55775.0352\n",
            "Epoch 155/200\n",
            "24/24 [==============================] - 0s 2ms/step - loss: 53575.6758\n",
            "Epoch 156/200\n",
            "24/24 [==============================] - 0s 2ms/step - loss: 51396.2461\n",
            "Epoch 157/200\n",
            "24/24 [==============================] - 0s 2ms/step - loss: 49230.7344\n",
            "Epoch 158/200\n",
            "24/24 [==============================] - 0s 2ms/step - loss: 47102.2305\n",
            "Epoch 159/200\n",
            "24/24 [==============================] - 0s 2ms/step - loss: 44996.7773\n",
            "Epoch 160/200\n",
            "24/24 [==============================] - 0s 2ms/step - loss: 42912.3516\n",
            "Epoch 161/200\n",
            "24/24 [==============================] - 0s 2ms/step - loss: 40857.0000\n",
            "Epoch 162/200\n",
            "24/24 [==============================] - 0s 2ms/step - loss: 38843.9023\n",
            "Epoch 163/200\n",
            "24/24 [==============================] - 0s 2ms/step - loss: 36854.9453\n",
            "Epoch 164/200\n",
            "24/24 [==============================] - 0s 2ms/step - loss: 34898.4922\n",
            "Epoch 165/200\n",
            "24/24 [==============================] - 0s 2ms/step - loss: 32983.7617\n",
            "Epoch 166/200\n",
            "24/24 [==============================] - 0s 2ms/step - loss: 31112.9648\n",
            "Epoch 167/200\n",
            "24/24 [==============================] - 0s 2ms/step - loss: 29278.2344\n",
            "Epoch 168/200\n",
            "24/24 [==============================] - 0s 2ms/step - loss: 27494.5605\n",
            "Epoch 169/200\n",
            "24/24 [==============================] - 0s 2ms/step - loss: 25731.9629\n",
            "Epoch 170/200\n",
            "24/24 [==============================] - 0s 3ms/step - loss: 24030.5820\n",
            "Epoch 171/200\n",
            "24/24 [==============================] - 0s 2ms/step - loss: 22377.2793\n",
            "Epoch 172/200\n",
            "24/24 [==============================] - 0s 2ms/step - loss: 20773.3887\n",
            "Epoch 173/200\n",
            "24/24 [==============================] - 0s 2ms/step - loss: 19196.1992\n",
            "Epoch 174/200\n",
            "24/24 [==============================] - 0s 2ms/step - loss: 17707.3301\n",
            "Epoch 175/200\n",
            "24/24 [==============================] - 0s 2ms/step - loss: 16273.7842\n",
            "Epoch 176/200\n",
            "24/24 [==============================] - 0s 2ms/step - loss: 14874.0264\n",
            "Epoch 177/200\n",
            "24/24 [==============================] - 0s 2ms/step - loss: 13557.8252\n",
            "Epoch 178/200\n",
            "24/24 [==============================] - 0s 2ms/step - loss: 12284.7695\n",
            "Epoch 179/200\n",
            "24/24 [==============================] - 0s 2ms/step - loss: 11077.6680\n",
            "Epoch 180/200\n",
            "24/24 [==============================] - 0s 2ms/step - loss: 9940.9580\n",
            "Epoch 181/200\n",
            "24/24 [==============================] - 0s 2ms/step - loss: 8872.7773\n",
            "Epoch 182/200\n",
            "24/24 [==============================] - 0s 2ms/step - loss: 7871.1855\n",
            "Epoch 183/200\n",
            "24/24 [==============================] - 0s 2ms/step - loss: 6938.0352\n",
            "Epoch 184/200\n",
            "24/24 [==============================] - 0s 2ms/step - loss: 6088.5132\n",
            "Epoch 185/200\n",
            "24/24 [==============================] - 0s 2ms/step - loss: 5304.7896\n",
            "Epoch 186/200\n",
            "24/24 [==============================] - 0s 2ms/step - loss: 4607.3135\n",
            "Epoch 187/200\n",
            "24/24 [==============================] - 0s 3ms/step - loss: 3986.5913\n",
            "Epoch 188/200\n",
            "24/24 [==============================] - 0s 2ms/step - loss: 3455.2664\n",
            "Epoch 189/200\n",
            "24/24 [==============================] - 0s 2ms/step - loss: 3005.4482\n",
            "Epoch 190/200\n",
            "24/24 [==============================] - 0s 2ms/step - loss: 2630.8008\n",
            "Epoch 191/200\n",
            "24/24 [==============================] - 0s 2ms/step - loss: 2352.3452\n",
            "Epoch 192/200\n",
            "24/24 [==============================] - 0s 2ms/step - loss: 2145.6025\n",
            "Epoch 193/200\n",
            "24/24 [==============================] - 0s 2ms/step - loss: 2012.8315\n",
            "Epoch 194/200\n",
            "24/24 [==============================] - 0s 2ms/step - loss: 1946.9407\n",
            "Epoch 195/200\n",
            "24/24 [==============================] - 0s 2ms/step - loss: 1916.1041\n",
            "Epoch 196/200\n",
            "24/24 [==============================] - 0s 3ms/step - loss: 1900.4910\n",
            "Epoch 197/200\n",
            "24/24 [==============================] - 0s 2ms/step - loss: 1885.5841\n",
            "Epoch 198/200\n",
            "24/24 [==============================] - 0s 2ms/step - loss: 1870.1185\n",
            "Epoch 199/200\n",
            "24/24 [==============================] - 0s 2ms/step - loss: 1854.3651\n",
            "Epoch 200/200\n",
            "24/24 [==============================] - 0s 2ms/step - loss: 1839.0865\n"
          ]
        },
        {
          "output_type": "execute_result",
          "data": {
            "text/plain": [
              "<keras.callbacks.History at 0x7fd313c5f4d0>"
            ]
          },
          "metadata": {},
          "execution_count": 73
        }
      ]
    },
    {
      "cell_type": "code",
      "source": [
        "loss_df = pd.DataFrame(model.history.history)\n",
        "loss_df.plot()"
      ],
      "metadata": {
        "colab": {
          "base_uri": "https://localhost:8080/",
          "height": 283
        },
        "id": "Ziq2YvjzBKu9",
        "outputId": "df75362e-91d4-42fb-bcc4-5a00c2dc3fae"
      },
      "execution_count": 74,
      "outputs": [
        {
          "output_type": "execute_result",
          "data": {
            "text/plain": [
              "<matplotlib.axes._subplots.AxesSubplot at 0x7fd310736250>"
            ]
          },
          "metadata": {},
          "execution_count": 74
        },
        {
          "output_type": "display_data",
          "data": {
            "text/plain": [
              "<Figure size 432x288 with 1 Axes>"
            ],
            "image/png": "[encoded data removed]"
          },
          "metadata": {
            "needs_background": "light"
          }
        }
      ]
    },
    {
      "cell_type": "code",
      "source": [
        "model.evaluate(X_test, y_test, verbose = 0)"
      ],
      "metadata": {
        "colab": {
          "base_uri": "https://localhost:8080/"
        },
        "id": "wncOX_hDBKtE",
        "outputId": "3c938473-bfcf-4466-805e-a4d2ac81c519"
      },
      "execution_count": 75,
      "outputs": [
        {
          "output_type": "execute_result",
          "data": {
            "text/plain": [
              "1763.220703125"
            ]
          },
          "metadata": {},
          "execution_count": 75
        }
      ]
    },
    {
      "cell_type": "code",
      "source": [
        "model.evaluate(X_train, y_train, verbose = 0)"
      ],
      "metadata": {
        "colab": {
          "base_uri": "https://localhost:8080/"
        },
        "id": "tbzMfxyyBKrI",
        "outputId": "f31e81e7-646a-4783-f6e1-5a33a76714d7"
      },
      "execution_count": 76,
      "outputs": [
        {
          "output_type": "execute_result",
          "data": {
            "text/plain": [
              "1829.7418212890625"
            ]
          },
          "metadata": {},
          "execution_count": 76
        }
      ]
    },
    {
      "cell_type": "code",
      "source": [
        "test_predictions = model.predict(X_test)\n",
        "test_predictions"
      ],
      "metadata": {
        "colab": {
          "base_uri": "https://localhost:8080/"
        },
        "id": "_2IR2vhKBKpx",
        "outputId": "95f6c1fe-0992-4ea1-9aef-00e87117a74b"
      },
      "execution_count": 77,
      "outputs": [
        {
          "output_type": "stream",
          "name": "stdout",
          "text": [
            "8/8 [==============================] - 0s 3ms/step\n"
          ]
        },
        {
          "output_type": "execute_result",
          "data": {
            "text/plain": [
              "array([[446.934  ],\n",
              "       [576.4211 ],\n",
              "       [565.46533],\n",
              "       [528.4482 ],\n",
              "       [390.45422],\n",
              "       [545.10016],\n",
              "       [479.45532],\n",
              "       [492.02496],\n",
              "       [515.4155 ],\n",
              "       [487.80746],\n",
              "       [570.2733 ],\n",
              "       [565.3869 ],\n",
              "       [452.5846 ],\n",
              "       [441.2251 ],\n",
              "       [627.7953 ],\n",
              "       [475.36386],\n",
              "       [535.88226],\n",
              "       [569.35095],\n",
              "       [587.28986],\n",
              "       [555.3563 ],\n",
              "       [387.54785],\n",
              "       [468.32114],\n",
              "       [420.72726],\n",
              "       [432.6874 ],\n",
              "       [540.27997],\n",
              "       [551.173  ],\n",
              "       [517.3622 ],\n",
              "       [463.4831 ],\n",
              "       [575.5002 ],\n",
              "       [465.28516],\n",
              "       [482.00452],\n",
              "       [494.42758],\n",
              "       [469.09436],\n",
              "       [595.7966 ],\n",
              "       [480.3669 ],\n",
              "       [440.10977],\n",
              "       [540.08887],\n",
              "       [535.8313 ],\n",
              "       [483.05768],\n",
              "       [409.18973],\n",
              "       [580.8556 ],\n",
              "       [463.44333],\n",
              "       [571.2264 ],\n",
              "       [494.80203],\n",
              "       [503.67377],\n",
              "       [588.09045],\n",
              "       [630.3287 ],\n",
              "       [510.4868 ],\n",
              "       [410.6944 ],\n",
              "       [491.27908],\n",
              "       [518.74133],\n",
              "       [448.72607],\n",
              "       [552.9218 ],\n",
              "       [450.04227],\n",
              "       [595.81866],\n",
              "       [491.78122],\n",
              "       [552.8787 ],\n",
              "       [606.78   ],\n",
              "       [473.79343],\n",
              "       [477.8452 ],\n",
              "       [485.50095],\n",
              "       [496.93713],\n",
              "       [617.3381 ],\n",
              "       [434.5742 ],\n",
              "       [624.57245],\n",
              "       [545.2126 ],\n",
              "       [555.9312 ],\n",
              "       [539.28265],\n",
              "       [492.3506 ],\n",
              "       [497.1141 ],\n",
              "       [424.65225],\n",
              "       [527.0767 ],\n",
              "       [536.7912 ],\n",
              "       [553.0129 ],\n",
              "       [481.51453],\n",
              "       [530.7384 ],\n",
              "       [527.04047],\n",
              "       [451.42496],\n",
              "       [522.56415],\n",
              "       [608.5988 ],\n",
              "       [451.7922 ],\n",
              "       [551.1009 ],\n",
              "       [638.6948 ],\n",
              "       [468.01523],\n",
              "       [608.2173 ],\n",
              "       [483.908  ],\n",
              "       [469.70584],\n",
              "       [550.81744],\n",
              "       [491.34875],\n",
              "       [508.8034 ],\n",
              "       [578.8946 ],\n",
              "       [482.81958],\n",
              "       [458.67334],\n",
              "       [458.71185],\n",
              "       [487.41776],\n",
              "       [559.0869 ],\n",
              "       [394.8268 ],\n",
              "       [473.37833],\n",
              "       [532.5383 ],\n",
              "       [499.2895 ],\n",
              "       [544.2617 ],\n",
              "       [512.0183 ],\n",
              "       [422.76062],\n",
              "       [571.57074],\n",
              "       [427.75235],\n",
              "       [574.60266],\n",
              "       [514.6577 ],\n",
              "       [428.01202],\n",
              "       [510.89645],\n",
              "       [506.47058],\n",
              "       [462.3317 ],\n",
              "       [589.432  ],\n",
              "       [535.20703],\n",
              "       [548.9548 ],\n",
              "       [452.70547],\n",
              "       [484.36853],\n",
              "       [554.67737],\n",
              "       [588.0066 ],\n",
              "       [608.70276],\n",
              "       [565.00305],\n",
              "       [538.6579 ],\n",
              "       [520.13385],\n",
              "       [416.38055],\n",
              "       [363.77747],\n",
              "       [498.6747 ],\n",
              "       [593.92444],\n",
              "       [450.57828],\n",
              "       [511.74728],\n",
              "       [484.31912],\n",
              "       [486.518  ],\n",
              "       [492.94235],\n",
              "       [435.33722],\n",
              "       [492.27234],\n",
              "       [489.122  ],\n",
              "       [586.658  ],\n",
              "       [578.7164 ],\n",
              "       [423.8773 ],\n",
              "       [585.8202 ],\n",
              "       [494.5641 ],\n",
              "       [554.8857 ],\n",
              "       [444.8965 ],\n",
              "       [519.10583],\n",
              "       [543.33215],\n",
              "       [406.66364],\n",
              "       [523.57227],\n",
              "       [562.7224 ],\n",
              "       [427.17563],\n",
              "       [512.41986],\n",
              "       [541.7871 ],\n",
              "       [491.68338],\n",
              "       [583.9107 ],\n",
              "       [402.65128],\n",
              "       [472.3222 ],\n",
              "       [499.106  ],\n",
              "       [437.14047],\n",
              "       [463.2502 ],\n",
              "       [448.25937],\n",
              "       [499.1444 ],\n",
              "       [431.65747],\n",
              "       [454.08032],\n",
              "       [573.90546],\n",
              "       [514.52783],\n",
              "       [479.72974],\n",
              "       [510.66953],\n",
              "       [548.4106 ],\n",
              "       [404.2659 ],\n",
              "       [550.4206 ],\n",
              "       [364.51828],\n",
              "       [506.33237],\n",
              "       [499.45465],\n",
              "       [491.84842],\n",
              "       [519.3816 ],\n",
              "       [442.34326],\n",
              "       [482.50574],\n",
              "       [524.23096],\n",
              "       [469.72647],\n",
              "       [533.50726],\n",
              "       [475.76733],\n",
              "       [534.5816 ],\n",
              "       [545.32446],\n",
              "       [538.47144],\n",
              "       [505.83878],\n",
              "       [582.3492 ],\n",
              "       [533.2665 ],\n",
              "       [581.04944],\n",
              "       [495.85254],\n",
              "       [472.44342],\n",
              "       [435.27112],\n",
              "       [560.3879 ],\n",
              "       [557.8624 ],\n",
              "       [480.7916 ],\n",
              "       [503.65717],\n",
              "       [534.1112 ],\n",
              "       [502.7896 ],\n",
              "       [411.72656],\n",
              "       [578.2524 ],\n",
              "       [505.92923],\n",
              "       [406.68683],\n",
              "       [496.23373],\n",
              "       [470.0829 ],\n",
              "       [571.6365 ],\n",
              "       [432.55896],\n",
              "       [535.8615 ],\n",
              "       [456.76782],\n",
              "       [325.81903],\n",
              "       [527.514  ],\n",
              "       [441.64215],\n",
              "       [397.76895],\n",
              "       [570.74884],\n",
              "       [474.72775],\n",
              "       [521.92883],\n",
              "       [505.34042],\n",
              "       [463.68954],\n",
              "       [406.36493],\n",
              "       [419.29822],\n",
              "       [546.3111 ],\n",
              "       [558.5801 ],\n",
              "       [528.1563 ],\n",
              "       [566.61365],\n",
              "       [469.127  ],\n",
              "       [482.39923],\n",
              "       [503.73322],\n",
              "       [485.83444],\n",
              "       [533.75134],\n",
              "       [475.5366 ],\n",
              "       [454.5985 ],\n",
              "       [563.6819 ],\n",
              "       [354.39395],\n",
              "       [587.9417 ],\n",
              "       [593.60754],\n",
              "       [416.75156],\n",
              "       [472.6834 ],\n",
              "       [565.8888 ],\n",
              "       [436.06094],\n",
              "       [476.68402],\n",
              "       [418.02472],\n",
              "       [532.83514],\n",
              "       [474.88977],\n",
              "       [545.2638 ],\n",
              "       [596.1367 ],\n",
              "       [520.3712 ],\n",
              "       [516.67365],\n",
              "       [601.2467 ],\n",
              "       [523.04626],\n",
              "       [521.51843],\n",
              "       [497.46585],\n",
              "       [483.74893],\n",
              "       [525.4207 ],\n",
              "       [488.11673],\n",
              "       [586.58624]], dtype=float32)"
            ]
          },
          "metadata": {},
          "execution_count": 77
        }
      ]
    },
    {
      "cell_type": "code",
      "source": [
        "test_predictions = pd.Series(test_predictions.reshape(250,))\n",
        "pred_df = pd.DataFrame(y_test, columns=['Test True Y'])\n",
        "pred_df = pd.concat([pred_df,test_predictions], axis = 1)\n",
        "pred_df.columns = ['Test True Y', 'Model Predictions']\n",
        "pred_df\n",
        "\n"
      ],
      "metadata": {
        "colab": {
          "base_uri": "https://localhost:8080/",
          "height": 424
        },
        "id": "3qvM4cWCBKnP",
        "outputId": "2c1337b8-dc3e-49dc-e424-7e7cb08daa5b"
      },
      "execution_count": 78,
      "outputs": [
        {
          "output_type": "execute_result",
          "data": {
            "text/plain": [
              "     Test True Y  Model Predictions\n",
              "0     402.296319         446.933990\n",
              "1     624.156198         576.421082\n",
              "2     582.455066         565.465332\n",
              "3     578.588606         528.448181\n",
              "4     371.224104         390.454224\n",
              "..           ...                ...\n",
              "245   515.778446         497.465851\n",
              "246   462.881631         483.748932\n",
              "247   507.434391         525.420715\n",
              "248   467.460596         488.116730\n",
              "249   595.965820         586.586243\n",
              "\n",
              "[250 rows x 2 columns]"
            ],
            "text/html": [
              "\n",
              "  <div id=\"df-4a22a62a-34b3-40d0-a817-bcece1447996\">\n",
              "    <div class=\"colab-df-container\">\n",
              "      <div>\n",
              "<style scoped>\n",
              "    .dataframe tbody tr th:only-of-type {\n",
              "        vertical-align: middle;\n",
              "    }\n",
              "\n",
              "    .dataframe tbody tr th {\n",
              "        vertical-align: top;\n",
              "    }\n",
              "\n",
              "    .dataframe thead th {\n",
              "        text-align: right;\n",
              "    }\n",
              "</style>\n",
              "<table border=\"1\" class=\"dataframe\">\n",
              "  <thead>\n",
              "    <tr style=\"text-align: right;\">\n",
              "      <th></th>\n",
              "      <th>Test True Y</th>\n",
              "      <th>Model Predictions</th>\n",
              "    </tr>\n",
              "  </thead>\n",
              "  <tbody>\n",
              "    <tr>\n",
              "      <th>0</th>\n",
              "      <td>402.296319</td>\n",
              "      <td>446.933990</td>\n",
              "    </tr>\n",
              "    <tr>\n",
              "      <th>1</th>\n",
              "      <td>624.156198</td>\n",
              "      <td>576.421082</td>\n",
              "    </tr>\n",
              "    <tr>\n",
              "      <th>2</th>\n",
              "      <td>582.455066</td>\n",
              "      <td>565.465332</td>\n",
              "    </tr>\n",
              "    <tr>\n",
              "      <th>3</th>\n",
              "      <td>578.588606</td>\n",
              "      <td>528.448181</td>\n",
              "    </tr>\n",
              "    <tr>\n",
              "      <th>4</th>\n",
              "      <td>371.224104</td>\n",
              "      <td>390.454224</td>\n",
              "    </tr>\n",
              "    <tr>\n",
              "      <th>...</th>\n",
              "      <td>...</td>\n",
              "      <td>...</td>\n",
              "    </tr>\n",
              "    <tr>\n",
              "      <th>245</th>\n",
              "      <td>515.778446</td>\n",
              "      <td>497.465851</td>\n",
              "    </tr>\n",
              "    <tr>\n",
              "      <th>246</th>\n",
              "      <td>462.881631</td>\n",
              "      <td>483.748932</td>\n",
              "    </tr>\n",
              "    <tr>\n",
              "      <th>247</th>\n",
              "      <td>507.434391</td>\n",
              "      <td>525.420715</td>\n",
              "    </tr>\n",
              "    <tr>\n",
              "      <th>248</th>\n",
              "      <td>467.460596</td>\n",
              "      <td>488.116730</td>\n",
              "    </tr>\n",
              "    <tr>\n",
              "      <th>249</th>\n",
              "      <td>595.965820</td>\n",
              "      <td>586.586243</td>\n",
              "    </tr>\n",
              "  </tbody>\n",
              "</table>\n",
              "<p>250 rows × 2 columns</p>\n",
              "</div>\n",
              "      <button class=\"colab-df-convert\" onclick=\"convertToInteractive('df-4a22a62a-34b3-40d0-a817-bcece1447996')\"\n",
              "              title=\"Convert this dataframe to an interactive table.\"\n",
              "              style=\"display:none;\">\n",
              "        \n",
              "  <svg xmlns=\"http://www.w3.org/2000/svg\" height=\"24px\"viewBox=\"0 0 24 24\"\n",
              "       width=\"24px\">\n",
              "    <path d=\"M0 0h24v24H0V0z\" fill=\"none\"/>\n",
              "    <path d=\"M18.56 5.44l.94 2.06.94-2.06 2.06-.94-2.06-.94-.94-2.06-.94 2.06-2.06.94zm-11 1L8.5 8.5l.94-2.06 2.06-.94-2.06-.94L8.5 2.5l-.94 2.06-2.06.94zm10 10l.94 2.06.94-2.06 2.06-.94-2.06-.94-.94-2.06-.94 2.06-2.06.94z\"/><path d=\"M17.41 7.96l-1.37-1.37c-.4-.4-.92-.59-1.43-.59-.52 0-1.04.2-1.43.59L10.3 9.45l-7.72 7.72c-.78.78-.78 2.05 0 2.83L4 21.41c.39.39.9.59 1.41.59.51 0 1.02-.2 1.41-.59l7.78-7.78 2.81-2.81c.8-.78.8-2.07 0-2.86zM5.41 20L4 18.59l7.72-7.72 1.47 1.35L5.41 20z\"/>\n",
              "  </svg>\n",
              "      </button>\n",
              "      \n",
              "  <style>\n",
              "    .colab-df-container {\n",
              "      display:flex;\n",
              "      flex-wrap:wrap;\n",
              "      gap: 12px;\n",
              "    }\n",
              "\n",
              "    .colab-df-convert {\n",
              "      background-color: #E8F0FE;\n",
              "      border: none;\n",
              "      border-radius: 50%;\n",
              "      cursor: pointer;\n",
              "      display: none;\n",
              "      fill: #1967D2;\n",
              "      height: 32px;\n",
              "      padding: 0 0 0 0;\n",
              "      width: 32px;\n",
              "    }\n",
              "\n",
              "    .colab-df-convert:hover {\n",
              "      background-color: #E2EBFA;\n",
              "      box-shadow: 0px 1px 2px rgba(60, 64, 67, 0.3), 0px 1px 3px 1px rgba(60, 64, 67, 0.15);\n",
              "      fill: #174EA6;\n",
              "    }\n",
              "\n",
              "    [theme=dark] .colab-df-convert {\n",
              "      background-color: #3B4455;\n",
              "      fill: #D2E3FC;\n",
              "    }\n",
              "\n",
              "    [theme=dark] .colab-df-convert:hover {\n",
              "      background-color: #434B5C;\n",
              "      box-shadow: 0px 1px 3px 1px rgba(0, 0, 0, 0.15);\n",
              "      filter: drop-shadow(0px 1px 2px rgba(0, 0, 0, 0.3));\n",
              "      fill: #FFFFFF;\n",
              "    }\n",
              "  </style>\n",
              "\n",
              "      <script>\n",
              "        const buttonEl =\n",
              "          document.querySelector('#df-4a22a62a-34b3-40d0-a817-bcece1447996 button.colab-df-convert');\n",
              "        buttonEl.style.display =\n",
              "          google.colab.kernel.accessAllowed ? 'block' : 'none';\n",
              "\n",
              "        async function convertToInteractive(key) {\n",
              "          const element = document.querySelector('#df-4a22a62a-34b3-40d0-a817-bcece1447996');\n",
              "          const dataTable =\n",
              "            await google.colab.kernel.invokeFunction('convertToInteractive',\n",
              "                                                     [key], {});\n",
              "          if (!dataTable) return;\n",
              "\n",
              "          const docLinkHtml = 'Like what you see? Visit the ' +\n",
              "            '<a target=\"_blank\" href=https://colab.research.google.com/notebooks/data_table.ipynb>data table notebook</a>'\n",
              "            + ' to learn more about interactive tables.';\n",
              "          element.innerHTML = '';\n",
              "          dataTable['output_type'] = 'display_data';\n",
              "          await google.colab.output.renderOutput(dataTable, element);\n",
              "          const docLink = document.createElement('div');\n",
              "          docLink.innerHTML = docLinkHtml;\n",
              "          element.appendChild(docLink);\n",
              "        }\n",
              "      </script>\n",
              "    </div>\n",
              "  </div>\n",
              "  "
            ]
          },
          "metadata": {},
          "execution_count": 78
        }
      ]
    },
    {
      "cell_type": "code",
      "source": [
        "sns.scatterplot(x='Test True Y', y = 'Model Predictions', data = pred_df)"
      ],
      "metadata": {
        "colab": {
          "base_uri": "https://localhost:8080/",
          "height": 299
        },
        "id": "aBtWov1r4GGu",
        "outputId": "94171425-2c81-460b-e7d0-8a627aa810ed"
      },
      "execution_count": 79,
      "outputs": [
        {
          "output_type": "execute_result",
          "data": {
            "text/plain": [
              "<matplotlib.axes._subplots.AxesSubplot at 0x7fd30f078990>"
            ]
          },
          "metadata": {},
          "execution_count": 79
        },
        {
          "output_type": "display_data",
          "data": {
            "text/plain": [
              "<Figure size 432x288 with 1 Axes>"
            ],
            "image/png": "[encoded data removed]"
          },
          "metadata": {
            "needs_background": "light"
          }
        }
      ]
    },
    {
      "cell_type": "code",
      "source": [
        "from sklearn.metrics import mean_absolute_error,mean_squared_error"
      ],
      "metadata": {
        "id": "gNFXbGZ_4GBQ"
      },
      "execution_count": 80,
      "outputs": []
    },
    {
      "cell_type": "code",
      "source": [
        "mean_absolute_error(pred_df['Test True Y'],pred_df['Model Predictions']) # this value is not important itself, just need to compare with our context."
      ],
      "metadata": {
        "colab": {
          "base_uri": "https://localhost:8080/"
        },
        "id": "B_nE-Vp34F86",
        "outputId": "5937141a-ccfb-4f84-cbc6-1a4b03133cf3"
      },
      "execution_count": 82,
      "outputs": [
        {
          "output_type": "execute_result",
          "data": {
            "text/plain": [
              "33.44019967736275"
            ]
          },
          "metadata": {},
          "execution_count": 82
        }
      ]
    },
    {
      "cell_type": "code",
      "source": [
        "df.describe() # here, I can see mean 498$, so 33 mean_absolute error is roughly 9% which is quite high, I need to diminish this value."
      ],
      "metadata": {
        "colab": {
          "base_uri": "https://localhost:8080/",
          "height": 300
        },
        "id": "5t5fIv2g4FtO",
        "outputId": "2aaa8c7f-1d15-4f45-c1be-4b1612246349"
      },
      "execution_count": 83,
      "outputs": [
        {
          "output_type": "execute_result",
          "data": {
            "text/plain": [
              "             price     feature1     feature2\n",
              "count  1000.000000  1000.000000  1000.000000\n",
              "mean    498.673029  1000.014171   999.979847\n",
              "std      93.785431     0.974018     0.948330\n",
              "min     223.346793   997.058347   996.995651\n",
              "25%     433.025732   999.332068   999.316106\n",
              "50%     502.382117  1000.009915  1000.002243\n",
              "75%     564.921588  1000.637580  1000.645380\n",
              "max     774.407854  1003.207934  1002.666308"
            ],
            "text/html": [
              "\n",
              "  <div id=\"df-a1057864-a1a3-4ea2-bba9-1637c79482e5\">\n",
              "    <div class=\"colab-df-container\">\n",
              "      <div>\n",
              "<style scoped>\n",
              "    .dataframe tbody tr th:only-of-type {\n",
              "        vertical-align: middle;\n",
              "    }\n",
              "\n",
              "    .dataframe tbody tr th {\n",
              "        vertical-align: top;\n",
              "    }\n",
              "\n",
              "    .dataframe thead th {\n",
              "        text-align: right;\n",
              "    }\n",
              "</style>\n",
              "<table border=\"1\" class=\"dataframe\">\n",
              "  <thead>\n",
              "    <tr style=\"text-align: right;\">\n",
              "      <th></th>\n",
              "      <th>price</th>\n",
              "      <th>feature1</th>\n",
              "      <th>feature2</th>\n",
              "    </tr>\n",
              "  </thead>\n",
              "  <tbody>\n",
              "    <tr>\n",
              "      <th>count</th>\n",
              "      <td>1000.000000</td>\n",
              "      <td>1000.000000</td>\n",
              "      <td>1000.000000</td>\n",
              "    </tr>\n",
              "    <tr>\n",
              "      <th>mean</th>\n",
              "      <td>498.673029</td>\n",
              "      <td>1000.014171</td>\n",
              "      <td>999.979847</td>\n",
              "    </tr>\n",
              "    <tr>\n",
              "      <th>std</th>\n",
              "      <td>93.785431</td>\n",
              "      <td>0.974018</td>\n",
              "      <td>0.948330</td>\n",
              "    </tr>\n",
              "    <tr>\n",
              "      <th>min</th>\n",
              "      <td>223.346793</td>\n",
              "      <td>997.058347</td>\n",
              "      <td>996.995651</td>\n",
              "    </tr>\n",
              "    <tr>\n",
              "      <th>25%</th>\n",
              "      <td>433.025732</td>\n",
              "      <td>999.332068</td>\n",
              "      <td>999.316106</td>\n",
              "    </tr>\n",
              "    <tr>\n",
              "      <th>50%</th>\n",
              "      <td>502.382117</td>\n",
              "      <td>1000.009915</td>\n",
              "      <td>1000.002243</td>\n",
              "    </tr>\n",
              "    <tr>\n",
              "      <th>75%</th>\n",
              "      <td>564.921588</td>\n",
              "      <td>1000.637580</td>\n",
              "      <td>1000.645380</td>\n",
              "    </tr>\n",
              "    <tr>\n",
              "      <th>max</th>\n",
              "      <td>774.407854</td>\n",
              "      <td>1003.207934</td>\n",
              "      <td>1002.666308</td>\n",
              "    </tr>\n",
              "  </tbody>\n",
              "</table>\n",
              "</div>\n",
              "      <button class=\"colab-df-convert\" onclick=\"convertToInteractive('df-a1057864-a1a3-4ea2-bba9-1637c79482e5')\"\n",
              "              title=\"Convert this dataframe to an interactive table.\"\n",
              "              style=\"display:none;\">\n",
              "        \n",
              "  <svg xmlns=\"http://www.w3.org/2000/svg\" height=\"24px\"viewBox=\"0 0 24 24\"\n",
              "       width=\"24px\">\n",
              "    <path d=\"M0 0h24v24H0V0z\" fill=\"none\"/>\n",
              "    <path d=\"M18.56 5.44l.94 2.06.94-2.06 2.06-.94-2.06-.94-.94-2.06-.94 2.06-2.06.94zm-11 1L8.5 8.5l.94-2.06 2.06-.94-2.06-.94L8.5 2.5l-.94 2.06-2.06.94zm10 10l.94 2.06.94-2.06 2.06-.94-2.06-.94-.94-2.06-.94 2.06-2.06.94z\"/><path d=\"M17.41 7.96l-1.37-1.37c-.4-.4-.92-.59-1.43-.59-.52 0-1.04.2-1.43.59L10.3 9.45l-7.72 7.72c-.78.78-.78 2.05 0 2.83L4 21.41c.39.39.9.59 1.41.59.51 0 1.02-.2 1.41-.59l7.78-7.78 2.81-2.81c.8-.78.8-2.07 0-2.86zM5.41 20L4 18.59l7.72-7.72 1.47 1.35L5.41 20z\"/>\n",
              "  </svg>\n",
              "      </button>\n",
              "      \n",
              "  <style>\n",
              "    .colab-df-container {\n",
              "      display:flex;\n",
              "      flex-wrap:wrap;\n",
              "      gap: 12px;\n",
              "    }\n",
              "\n",
              "    .colab-df-convert {\n",
              "      background-color: #E8F0FE;\n",
              "      border: none;\n",
              "      border-radius: 50%;\n",
              "      cursor: pointer;\n",
              "      display: none;\n",
              "      fill: #1967D2;\n",
              "      height: 32px;\n",
              "      padding: 0 0 0 0;\n",
              "      width: 32px;\n",
              "    }\n",
              "\n",
              "    .colab-df-convert:hover {\n",
              "      background-color: #E2EBFA;\n",
              "      box-shadow: 0px 1px 2px rgba(60, 64, 67, 0.3), 0px 1px 3px 1px rgba(60, 64, 67, 0.15);\n",
              "      fill: #174EA6;\n",
              "    }\n",
              "\n",
              "    [theme=dark] .colab-df-convert {\n",
              "      background-color: #3B4455;\n",
              "      fill: #D2E3FC;\n",
              "    }\n",
              "\n",
              "    [theme=dark] .colab-df-convert:hover {\n",
              "      background-color: #434B5C;\n",
              "      box-shadow: 0px 1px 3px 1px rgba(0, 0, 0, 0.15);\n",
              "      filter: drop-shadow(0px 1px 2px rgba(0, 0, 0, 0.3));\n",
              "      fill: #FFFFFF;\n",
              "    }\n",
              "  </style>\n",
              "\n",
              "      <script>\n",
              "        const buttonEl =\n",
              "          document.querySelector('#df-a1057864-a1a3-4ea2-bba9-1637c79482e5 button.colab-df-convert');\n",
              "        buttonEl.style.display =\n",
              "          google.colab.kernel.accessAllowed ? 'block' : 'none';\n",
              "\n",
              "        async function convertToInteractive(key) {\n",
              "          const element = document.querySelector('#df-a1057864-a1a3-4ea2-bba9-1637c79482e5');\n",
              "          const dataTable =\n",
              "            await google.colab.kernel.invokeFunction('convertToInteractive',\n",
              "                                                     [key], {});\n",
              "          if (!dataTable) return;\n",
              "\n",
              "          const docLinkHtml = 'Like what you see? Visit the ' +\n",
              "            '<a target=\"_blank\" href=https://colab.research.google.com/notebooks/data_table.ipynb>data table notebook</a>'\n",
              "            + ' to learn more about interactive tables.';\n",
              "          element.innerHTML = '';\n",
              "          dataTable['output_type'] = 'display_data';\n",
              "          await google.colab.output.renderOutput(dataTable, element);\n",
              "          const docLink = document.createElement('div');\n",
              "          docLink.innerHTML = docLinkHtml;\n",
              "          element.appendChild(docLink);\n",
              "        }\n",
              "      </script>\n",
              "    </div>\n",
              "  </div>\n",
              "  "
            ]
          },
          "metadata": {},
          "execution_count": 83
        }
      ]
    },
    {
      "cell_type": "code",
      "source": [
        "mean_squared_error(pred_df['Test True Y'],pred_df['Model Predictions']) # same value of model.evaluate(X_test, y_test, verbose = 0)"
      ],
      "metadata": {
        "colab": {
          "base_uri": "https://localhost:8080/"
        },
        "id": "-VE2AT9S7zKq",
        "outputId": "ee5feb51-a844-4f40-d3f6-59b1e4e305a8"
      },
      "execution_count": 84,
      "outputs": [
        {
          "output_type": "execute_result",
          "data": {
            "text/plain": [
              "1763.2207015963277"
            ]
          },
          "metadata": {},
          "execution_count": 84
        }
      ]
    },
    {
      "cell_type": "code",
      "source": [
        "new = [[998,1000]]"
      ],
      "metadata": {
        "id": "ezGH6IAD83iF"
      },
      "execution_count": 136,
      "outputs": []
    },
    {
      "cell_type": "code",
      "source": [
        "new = scaler.transform(new)\n",
        "model.predict(new)"
      ],
      "metadata": {
        "colab": {
          "base_uri": "https://localhost:8080/"
        },
        "id": "oWbE8bR883gI",
        "outputId": "1b16869c-45c5-4ffd-ffd0-db7637667981"
      },
      "execution_count": 137,
      "outputs": [
        {
          "output_type": "stream",
          "name": "stdout",
          "text": [
            "1/1 [==============================] - 0s 19ms/step\n"
          ]
        },
        {
          "output_type": "execute_result",
          "data": {
            "text/plain": [
              "array([[424.30933]], dtype=float32)"
            ]
          },
          "metadata": {},
          "execution_count": 137
        }
      ]
    },
    {
      "cell_type": "code",
      "source": [
        "from tensorflow.keras.models import load_model"
      ],
      "metadata": {
        "id": "ldwOAEWu83eD"
      },
      "execution_count": 138,
      "outputs": []
    },
    {
      "cell_type": "code",
      "source": [
        "model.save('my_new_model.h5')"
      ],
      "metadata": {
        "id": "4vYBxRrM83bf"
      },
      "execution_count": 139,
      "outputs": []
    },
    {
      "cell_type": "code",
      "source": [
        "later_model = load_model('my_new_model.h5')"
      ],
      "metadata": {
        "id": "yxQEAn7v9gR5"
      },
      "execution_count": 140,
      "outputs": []
    },
    {
      "cell_type": "code",
      "source": [
        "later_model.predict(new)"
      ],
      "metadata": {
        "colab": {
          "base_uri": "https://localhost:8080/"
        },
        "id": "ybLyuX9l9n_V",
        "outputId": "62da84c0-44c4-4101-aec4-f5782ac8a077"
      },
      "execution_count": 141,
      "outputs": [
        {
          "output_type": "stream",
          "name": "stdout",
          "text": [
            "1/1 [==============================] - 0s 54ms/step\n"
          ]
        },
        {
          "output_type": "execute_result",
          "data": {
            "text/plain": [
              "array([[424.30933]], dtype=float32)"
            ]
          },
          "metadata": {},
          "execution_count": 141
        }
      ]
    },
    {
      "cell_type": "code",
      "source": [],
      "metadata": {
        "id": "SJzSLT449n9I"
      },
      "execution_count": null,
      "outputs": []
    },
    {
      "cell_type": "code",
      "source": [],
      "metadata": {
        "id": "vBJs8cS59n7F"
      },
      "execution_count": null,
      "outputs": []
    },
    {
      "cell_type": "code",
      "source": [],
      "metadata": {
        "id": "AYF2WiQF9n42"
      },
      "execution_count": null,
      "outputs": []
    }
  ]
}